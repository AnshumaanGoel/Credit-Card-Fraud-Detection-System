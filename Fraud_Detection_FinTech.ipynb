{
  "cells": [
    {
      "cell_type": "code",
      "execution_count": 1,
      "metadata": {
        "gather": {
          "logged": 1639471967023
        }
      },
      "outputs": [
        {
          "data": {
            "text/html": [
              "<div>\n",
              "<style scoped>\n",
              "    .dataframe tbody tr th:only-of-type {\n",
              "        vertical-align: middle;\n",
              "    }\n",
              "\n",
              "    .dataframe tbody tr th {\n",
              "        vertical-align: top;\n",
              "    }\n",
              "\n",
              "    .dataframe thead th {\n",
              "        text-align: right;\n",
              "    }\n",
              "</style>\n",
              "<table border=\"1\" class=\"dataframe\">\n",
              "  <thead>\n",
              "    <tr style=\"text-align: right;\">\n",
              "      <th></th>\n",
              "      <th>Time</th>\n",
              "      <th>V1</th>\n",
              "      <th>V2</th>\n",
              "      <th>V3</th>\n",
              "      <th>V4</th>\n",
              "      <th>V5</th>\n",
              "      <th>V6</th>\n",
              "      <th>V7</th>\n",
              "      <th>V8</th>\n",
              "      <th>V9</th>\n",
              "      <th>...</th>\n",
              "      <th>V21</th>\n",
              "      <th>V22</th>\n",
              "      <th>V23</th>\n",
              "      <th>V24</th>\n",
              "      <th>V25</th>\n",
              "      <th>V26</th>\n",
              "      <th>V27</th>\n",
              "      <th>V28</th>\n",
              "      <th>Amount</th>\n",
              "      <th>Class</th>\n",
              "    </tr>\n",
              "  </thead>\n",
              "  <tbody>\n",
              "    <tr>\n",
              "      <th>0</th>\n",
              "      <td>0.0</td>\n",
              "      <td>-1.359807</td>\n",
              "      <td>-0.072781</td>\n",
              "      <td>2.536347</td>\n",
              "      <td>1.378155</td>\n",
              "      <td>-0.338321</td>\n",
              "      <td>0.462388</td>\n",
              "      <td>0.239599</td>\n",
              "      <td>0.098698</td>\n",
              "      <td>0.363787</td>\n",
              "      <td>...</td>\n",
              "      <td>-0.018307</td>\n",
              "      <td>0.277838</td>\n",
              "      <td>-0.110474</td>\n",
              "      <td>0.066928</td>\n",
              "      <td>0.128539</td>\n",
              "      <td>-0.189115</td>\n",
              "      <td>0.133558</td>\n",
              "      <td>-0.021053</td>\n",
              "      <td>149.62</td>\n",
              "      <td>0</td>\n",
              "    </tr>\n",
              "    <tr>\n",
              "      <th>1</th>\n",
              "      <td>0.0</td>\n",
              "      <td>1.191857</td>\n",
              "      <td>0.266151</td>\n",
              "      <td>0.166480</td>\n",
              "      <td>0.448154</td>\n",
              "      <td>0.060018</td>\n",
              "      <td>-0.082361</td>\n",
              "      <td>-0.078803</td>\n",
              "      <td>0.085102</td>\n",
              "      <td>-0.255425</td>\n",
              "      <td>...</td>\n",
              "      <td>-0.225775</td>\n",
              "      <td>-0.638672</td>\n",
              "      <td>0.101288</td>\n",
              "      <td>-0.339846</td>\n",
              "      <td>0.167170</td>\n",
              "      <td>0.125895</td>\n",
              "      <td>-0.008983</td>\n",
              "      <td>0.014724</td>\n",
              "      <td>2.69</td>\n",
              "      <td>0</td>\n",
              "    </tr>\n",
              "    <tr>\n",
              "      <th>2</th>\n",
              "      <td>1.0</td>\n",
              "      <td>-1.358354</td>\n",
              "      <td>-1.340163</td>\n",
              "      <td>1.773209</td>\n",
              "      <td>0.379780</td>\n",
              "      <td>-0.503198</td>\n",
              "      <td>1.800499</td>\n",
              "      <td>0.791461</td>\n",
              "      <td>0.247676</td>\n",
              "      <td>-1.514654</td>\n",
              "      <td>...</td>\n",
              "      <td>0.247998</td>\n",
              "      <td>0.771679</td>\n",
              "      <td>0.909412</td>\n",
              "      <td>-0.689281</td>\n",
              "      <td>-0.327642</td>\n",
              "      <td>-0.139097</td>\n",
              "      <td>-0.055353</td>\n",
              "      <td>-0.059752</td>\n",
              "      <td>378.66</td>\n",
              "      <td>0</td>\n",
              "    </tr>\n",
              "    <tr>\n",
              "      <th>3</th>\n",
              "      <td>1.0</td>\n",
              "      <td>-0.966272</td>\n",
              "      <td>-0.185226</td>\n",
              "      <td>1.792993</td>\n",
              "      <td>-0.863291</td>\n",
              "      <td>-0.010309</td>\n",
              "      <td>1.247203</td>\n",
              "      <td>0.237609</td>\n",
              "      <td>0.377436</td>\n",
              "      <td>-1.387024</td>\n",
              "      <td>...</td>\n",
              "      <td>-0.108300</td>\n",
              "      <td>0.005274</td>\n",
              "      <td>-0.190321</td>\n",
              "      <td>-1.175575</td>\n",
              "      <td>0.647376</td>\n",
              "      <td>-0.221929</td>\n",
              "      <td>0.062723</td>\n",
              "      <td>0.061458</td>\n",
              "      <td>123.50</td>\n",
              "      <td>0</td>\n",
              "    </tr>\n",
              "    <tr>\n",
              "      <th>4</th>\n",
              "      <td>2.0</td>\n",
              "      <td>-1.158233</td>\n",
              "      <td>0.877737</td>\n",
              "      <td>1.548718</td>\n",
              "      <td>0.403034</td>\n",
              "      <td>-0.407193</td>\n",
              "      <td>0.095921</td>\n",
              "      <td>0.592941</td>\n",
              "      <td>-0.270533</td>\n",
              "      <td>0.817739</td>\n",
              "      <td>...</td>\n",
              "      <td>-0.009431</td>\n",
              "      <td>0.798278</td>\n",
              "      <td>-0.137458</td>\n",
              "      <td>0.141267</td>\n",
              "      <td>-0.206010</td>\n",
              "      <td>0.502292</td>\n",
              "      <td>0.219422</td>\n",
              "      <td>0.215153</td>\n",
              "      <td>69.99</td>\n",
              "      <td>0</td>\n",
              "    </tr>\n",
              "  </tbody>\n",
              "</table>\n",
              "<p>5 rows × 31 columns</p>\n",
              "</div>"
            ],
            "text/plain": [
              "   Time        V1        V2        V3        V4        V5        V6        V7  \\\n",
              "0   0.0 -1.359807 -0.072781  2.536347  1.378155 -0.338321  0.462388  0.239599   \n",
              "1   0.0  1.191857  0.266151  0.166480  0.448154  0.060018 -0.082361 -0.078803   \n",
              "2   1.0 -1.358354 -1.340163  1.773209  0.379780 -0.503198  1.800499  0.791461   \n",
              "3   1.0 -0.966272 -0.185226  1.792993 -0.863291 -0.010309  1.247203  0.237609   \n",
              "4   2.0 -1.158233  0.877737  1.548718  0.403034 -0.407193  0.095921  0.592941   \n",
              "\n",
              "         V8        V9  ...       V21       V22       V23       V24       V25  \\\n",
              "0  0.098698  0.363787  ... -0.018307  0.277838 -0.110474  0.066928  0.128539   \n",
              "1  0.085102 -0.255425  ... -0.225775 -0.638672  0.101288 -0.339846  0.167170   \n",
              "2  0.247676 -1.514654  ...  0.247998  0.771679  0.909412 -0.689281 -0.327642   \n",
              "3  0.377436 -1.387024  ... -0.108300  0.005274 -0.190321 -1.175575  0.647376   \n",
              "4 -0.270533  0.817739  ... -0.009431  0.798278 -0.137458  0.141267 -0.206010   \n",
              "\n",
              "        V26       V27       V28  Amount  Class  \n",
              "0 -0.189115  0.133558 -0.021053  149.62      0  \n",
              "1  0.125895 -0.008983  0.014724    2.69      0  \n",
              "2 -0.139097 -0.055353 -0.059752  378.66      0  \n",
              "3 -0.221929  0.062723  0.061458  123.50      0  \n",
              "4  0.502292  0.219422  0.215153   69.99      0  \n",
              "\n",
              "[5 rows x 31 columns]"
            ]
          },
          "execution_count": 1,
          "metadata": {},
          "output_type": "execute_result"
        }
      ],
      "source": [
        "import pandas as pd\n",
        "import seaborn as sns\n",
        "import numpy as np\n",
        "data=pd.read_csv(\"creditcard.csv\")\n",
        "data.head()"
      ]
    },
    {
      "cell_type": "code",
      "execution_count": 2,
      "metadata": {
        "gather": {
          "logged": 1639471967383
        },
        "jupyter": {
          "outputs_hidden": false,
          "source_hidden": false
        },
        "nteract": {
          "transient": {
            "deleting": false
          }
        }
      },
      "outputs": [
        {
          "name": "stdout",
          "output_type": "stream",
          "text": [
            "492\n",
            "284315\n"
          ]
        }
      ],
      "source": [
        "fraud=data.loc[data['Class']==1]\n",
        "normal=data.loc[data['Class']==0]\n",
        "print(len(fraud))\n",
        "print(len(normal)) "
      ]
    },
    {
      "cell_type": "code",
      "execution_count": 3,
      "metadata": {
        "gather": {
          "logged": 1639471979564
        },
        "jupyter": {
          "outputs_hidden": false,
          "source_hidden": false
        },
        "nteract": {
          "transient": {
            "deleting": false
          }
        }
      },
      "outputs": [
        {
          "data": {
            "text/plain": [
              "<seaborn.axisgrid.FacetGrid at 0x7f573a0c4be0>"
            ]
          },
          "execution_count": 3,
          "metadata": {},
          "output_type": "execute_result"
        },
        {
          "data": {
            "image/png": "[encoded data removed]",
            "text/plain": [
              "<Figure size 402.375x360 with 1 Axes>"
            ]
          },
          "metadata": {
            "needs_background": "light"
          },
          "output_type": "display_data"
        }
      ],
      "source": [
        "sns.relplot(x='Amount', y='Time', hue='Class', data=data)\n"
      ]
    },
    {
      "cell_type": "code",
      "execution_count": 4,
      "metadata": {
        "gather": {
          "logged": 1639471980016
        },
        "jupyter": {
          "outputs_hidden": false,
          "source_hidden": false
        },
        "nteract": {
          "transient": {
            "deleting": false
          }
        }
      },
      "outputs": [],
      "source": [
        "from sklearn import linear_model\n"
      ]
    },
    {
      "cell_type": "code",
      "execution_count": 5,
      "metadata": {
        "gather": {
          "logged": 1639471980431
        },
        "jupyter": {
          "outputs_hidden": false,
          "source_hidden": false
        },
        "nteract": {
          "transient": {
            "deleting": false
          }
        }
      },
      "outputs": [
        {
          "data": {
            "text/html": [
              "<div>\n",
              "<style scoped>\n",
              "    .dataframe tbody tr th:only-of-type {\n",
              "        vertical-align: middle;\n",
              "    }\n",
              "\n",
              "    .dataframe tbody tr th {\n",
              "        vertical-align: top;\n",
              "    }\n",
              "\n",
              "    .dataframe thead th {\n",
              "        text-align: right;\n",
              "    }\n",
              "</style>\n",
              "<table border=\"1\" class=\"dataframe\">\n",
              "  <thead>\n",
              "    <tr style=\"text-align: right;\">\n",
              "      <th></th>\n",
              "      <th>Time</th>\n",
              "      <th>V1</th>\n",
              "      <th>V2</th>\n",
              "      <th>V3</th>\n",
              "      <th>V4</th>\n",
              "      <th>V5</th>\n",
              "      <th>V6</th>\n",
              "      <th>V7</th>\n",
              "      <th>V8</th>\n",
              "      <th>V9</th>\n",
              "      <th>...</th>\n",
              "      <th>V20</th>\n",
              "      <th>V21</th>\n",
              "      <th>V22</th>\n",
              "      <th>V23</th>\n",
              "      <th>V24</th>\n",
              "      <th>V25</th>\n",
              "      <th>V26</th>\n",
              "      <th>V27</th>\n",
              "      <th>V28</th>\n",
              "      <th>Amount</th>\n",
              "    </tr>\n",
              "  </thead>\n",
              "  <tbody>\n",
              "    <tr>\n",
              "      <th>93876</th>\n",
              "      <td>64626.0</td>\n",
              "      <td>1.187090</td>\n",
              "      <td>0.008980</td>\n",
              "      <td>1.094491</td>\n",
              "      <td>1.221034</td>\n",
              "      <td>-0.676504</td>\n",
              "      <td>0.095473</td>\n",
              "      <td>-0.517634</td>\n",
              "      <td>0.078169</td>\n",
              "      <td>0.811484</td>\n",
              "      <td>...</td>\n",
              "      <td>-0.068762</td>\n",
              "      <td>-0.085988</td>\n",
              "      <td>-0.002447</td>\n",
              "      <td>-0.076044</td>\n",
              "      <td>-0.096204</td>\n",
              "      <td>0.506423</td>\n",
              "      <td>-0.380323</td>\n",
              "      <td>0.076734</td>\n",
              "      <td>0.034890</td>\n",
              "      <td>9.99</td>\n",
              "    </tr>\n",
              "    <tr>\n",
              "      <th>9133</th>\n",
              "      <td>12973.0</td>\n",
              "      <td>1.042687</td>\n",
              "      <td>0.224056</td>\n",
              "      <td>1.651554</td>\n",
              "      <td>2.756488</td>\n",
              "      <td>-0.541425</td>\n",
              "      <td>0.970706</td>\n",
              "      <td>-0.875859</td>\n",
              "      <td>0.406813</td>\n",
              "      <td>1.234202</td>\n",
              "      <td>...</td>\n",
              "      <td>-0.271378</td>\n",
              "      <td>-0.165518</td>\n",
              "      <td>-0.108077</td>\n",
              "      <td>0.082059</td>\n",
              "      <td>-0.072716</td>\n",
              "      <td>0.148948</td>\n",
              "      <td>-0.066969</td>\n",
              "      <td>0.024569</td>\n",
              "      <td>0.014142</td>\n",
              "      <td>0.00</td>\n",
              "    </tr>\n",
              "    <tr>\n",
              "      <th>72709</th>\n",
              "      <td>54825.0</td>\n",
              "      <td>1.155071</td>\n",
              "      <td>-0.493112</td>\n",
              "      <td>1.085904</td>\n",
              "      <td>0.214683</td>\n",
              "      <td>-1.103759</td>\n",
              "      <td>0.063601</td>\n",
              "      <td>-0.786761</td>\n",
              "      <td>0.245822</td>\n",
              "      <td>1.346627</td>\n",
              "      <td>...</td>\n",
              "      <td>-0.157802</td>\n",
              "      <td>-0.213401</td>\n",
              "      <td>-0.380433</td>\n",
              "      <td>0.115876</td>\n",
              "      <td>0.134929</td>\n",
              "      <td>0.028619</td>\n",
              "      <td>0.974372</td>\n",
              "      <td>-0.024755</td>\n",
              "      <td>0.010073</td>\n",
              "      <td>15.00</td>\n",
              "    </tr>\n",
              "    <tr>\n",
              "      <th>92533</th>\n",
              "      <td>63977.0</td>\n",
              "      <td>0.045777</td>\n",
              "      <td>-0.757804</td>\n",
              "      <td>1.098104</td>\n",
              "      <td>-2.623454</td>\n",
              "      <td>-0.356751</td>\n",
              "      <td>-0.390742</td>\n",
              "      <td>-0.285115</td>\n",
              "      <td>-0.128973</td>\n",
              "      <td>-2.104681</td>\n",
              "      <td>...</td>\n",
              "      <td>-0.307021</td>\n",
              "      <td>-0.161998</td>\n",
              "      <td>-0.095219</td>\n",
              "      <td>-0.097675</td>\n",
              "      <td>-0.569860</td>\n",
              "      <td>-0.307820</td>\n",
              "      <td>-0.423534</td>\n",
              "      <td>-0.097977</td>\n",
              "      <td>-0.174683</td>\n",
              "      <td>15.00</td>\n",
              "    </tr>\n",
              "    <tr>\n",
              "      <th>63550</th>\n",
              "      <td>50769.0</td>\n",
              "      <td>1.192976</td>\n",
              "      <td>0.243461</td>\n",
              "      <td>0.160114</td>\n",
              "      <td>0.450925</td>\n",
              "      <td>0.029974</td>\n",
              "      <td>-0.090812</td>\n",
              "      <td>-0.103117</td>\n",
              "      <td>0.104857</td>\n",
              "      <td>-0.203182</td>\n",
              "      <td>...</td>\n",
              "      <td>-0.092600</td>\n",
              "      <td>-0.230166</td>\n",
              "      <td>-0.666510</td>\n",
              "      <td>0.106049</td>\n",
              "      <td>-0.349315</td>\n",
              "      <td>0.155775</td>\n",
              "      <td>0.127125</td>\n",
              "      <td>-0.011101</td>\n",
              "      <td>0.013861</td>\n",
              "      <td>1.98</td>\n",
              "    </tr>\n",
              "    <tr>\n",
              "      <th>...</th>\n",
              "      <td>...</td>\n",
              "      <td>...</td>\n",
              "      <td>...</td>\n",
              "      <td>...</td>\n",
              "      <td>...</td>\n",
              "      <td>...</td>\n",
              "      <td>...</td>\n",
              "      <td>...</td>\n",
              "      <td>...</td>\n",
              "      <td>...</td>\n",
              "      <td>...</td>\n",
              "      <td>...</td>\n",
              "      <td>...</td>\n",
              "      <td>...</td>\n",
              "      <td>...</td>\n",
              "      <td>...</td>\n",
              "      <td>...</td>\n",
              "      <td>...</td>\n",
              "      <td>...</td>\n",
              "      <td>...</td>\n",
              "      <td>...</td>\n",
              "    </tr>\n",
              "    <tr>\n",
              "      <th>238790</th>\n",
              "      <td>149826.0</td>\n",
              "      <td>-0.545467</td>\n",
              "      <td>0.505094</td>\n",
              "      <td>1.550194</td>\n",
              "      <td>0.644477</td>\n",
              "      <td>0.120076</td>\n",
              "      <td>-0.088719</td>\n",
              "      <td>1.392903</td>\n",
              "      <td>-0.300207</td>\n",
              "      <td>-0.327343</td>\n",
              "      <td>...</td>\n",
              "      <td>0.326021</td>\n",
              "      <td>0.064244</td>\n",
              "      <td>0.205677</td>\n",
              "      <td>-0.127736</td>\n",
              "      <td>-0.038394</td>\n",
              "      <td>0.858313</td>\n",
              "      <td>-0.477018</td>\n",
              "      <td>-0.220142</td>\n",
              "      <td>-0.262339</td>\n",
              "      <td>141.45</td>\n",
              "    </tr>\n",
              "    <tr>\n",
              "      <th>218732</th>\n",
              "      <td>141437.0</td>\n",
              "      <td>0.060366</td>\n",
              "      <td>0.942140</td>\n",
              "      <td>-0.590147</td>\n",
              "      <td>-0.548350</td>\n",
              "      <td>0.989214</td>\n",
              "      <td>-1.312359</td>\n",
              "      <td>1.608582</td>\n",
              "      <td>-0.569163</td>\n",
              "      <td>-0.444585</td>\n",
              "      <td>...</td>\n",
              "      <td>-0.097931</td>\n",
              "      <td>0.232067</td>\n",
              "      <td>0.868546</td>\n",
              "      <td>-0.303017</td>\n",
              "      <td>0.015758</td>\n",
              "      <td>0.177983</td>\n",
              "      <td>0.261695</td>\n",
              "      <td>-0.092949</td>\n",
              "      <td>0.043002</td>\n",
              "      <td>23.00</td>\n",
              "    </tr>\n",
              "    <tr>\n",
              "      <th>4786</th>\n",
              "      <td>4254.0</td>\n",
              "      <td>-0.491200</td>\n",
              "      <td>1.243291</td>\n",
              "      <td>1.481231</td>\n",
              "      <td>0.979805</td>\n",
              "      <td>0.039533</td>\n",
              "      <td>-0.164112</td>\n",
              "      <td>0.239583</td>\n",
              "      <td>0.060691</td>\n",
              "      <td>0.624456</td>\n",
              "      <td>...</td>\n",
              "      <td>0.223319</td>\n",
              "      <td>-0.363919</td>\n",
              "      <td>-0.803743</td>\n",
              "      <td>-0.053818</td>\n",
              "      <td>-0.122517</td>\n",
              "      <td>-0.389065</td>\n",
              "      <td>0.298613</td>\n",
              "      <td>0.171316</td>\n",
              "      <td>0.168939</td>\n",
              "      <td>4.49</td>\n",
              "    </tr>\n",
              "    <tr>\n",
              "      <th>189828</th>\n",
              "      <td>128576.0</td>\n",
              "      <td>0.315348</td>\n",
              "      <td>0.020913</td>\n",
              "      <td>-0.878095</td>\n",
              "      <td>0.450499</td>\n",
              "      <td>1.453663</td>\n",
              "      <td>-1.229950</td>\n",
              "      <td>0.178692</td>\n",
              "      <td>-0.108881</td>\n",
              "      <td>0.039381</td>\n",
              "      <td>...</td>\n",
              "      <td>0.137834</td>\n",
              "      <td>-0.166068</td>\n",
              "      <td>-0.578170</td>\n",
              "      <td>0.487490</td>\n",
              "      <td>0.564238</td>\n",
              "      <td>-1.355861</td>\n",
              "      <td>0.130437</td>\n",
              "      <td>0.060100</td>\n",
              "      <td>0.100722</td>\n",
              "      <td>1.98</td>\n",
              "    </tr>\n",
              "    <tr>\n",
              "      <th>8989</th>\n",
              "      <td>12448.0</td>\n",
              "      <td>1.162830</td>\n",
              "      <td>-0.399034</td>\n",
              "      <td>1.194781</td>\n",
              "      <td>0.506251</td>\n",
              "      <td>-1.311546</td>\n",
              "      <td>-0.499193</td>\n",
              "      <td>-0.860573</td>\n",
              "      <td>0.039633</td>\n",
              "      <td>2.477864</td>\n",
              "      <td>...</td>\n",
              "      <td>-0.159637</td>\n",
              "      <td>-0.081386</td>\n",
              "      <td>0.004320</td>\n",
              "      <td>-0.021490</td>\n",
              "      <td>0.378752</td>\n",
              "      <td>0.113613</td>\n",
              "      <td>1.072551</td>\n",
              "      <td>-0.080883</td>\n",
              "      <td>0.010480</td>\n",
              "      <td>39.84</td>\n",
              "    </tr>\n",
              "  </tbody>\n",
              "</table>\n",
              "<p>99683 rows × 30 columns</p>\n",
              "</div>"
            ],
            "text/plain": [
              "            Time        V1        V2        V3        V4        V5        V6  \\\n",
              "93876    64626.0  1.187090  0.008980  1.094491  1.221034 -0.676504  0.095473   \n",
              "9133     12973.0  1.042687  0.224056  1.651554  2.756488 -0.541425  0.970706   \n",
              "72709    54825.0  1.155071 -0.493112  1.085904  0.214683 -1.103759  0.063601   \n",
              "92533    63977.0  0.045777 -0.757804  1.098104 -2.623454 -0.356751 -0.390742   \n",
              "63550    50769.0  1.192976  0.243461  0.160114  0.450925  0.029974 -0.090812   \n",
              "...          ...       ...       ...       ...       ...       ...       ...   \n",
              "238790  149826.0 -0.545467  0.505094  1.550194  0.644477  0.120076 -0.088719   \n",
              "218732  141437.0  0.060366  0.942140 -0.590147 -0.548350  0.989214 -1.312359   \n",
              "4786      4254.0 -0.491200  1.243291  1.481231  0.979805  0.039533 -0.164112   \n",
              "189828  128576.0  0.315348  0.020913 -0.878095  0.450499  1.453663 -1.229950   \n",
              "8989     12448.0  1.162830 -0.399034  1.194781  0.506251 -1.311546 -0.499193   \n",
              "\n",
              "              V7        V8        V9  ...       V20       V21       V22  \\\n",
              "93876  -0.517634  0.078169  0.811484  ... -0.068762 -0.085988 -0.002447   \n",
              "9133   -0.875859  0.406813  1.234202  ... -0.271378 -0.165518 -0.108077   \n",
              "72709  -0.786761  0.245822  1.346627  ... -0.157802 -0.213401 -0.380433   \n",
              "92533  -0.285115 -0.128973 -2.104681  ... -0.307021 -0.161998 -0.095219   \n",
              "63550  -0.103117  0.104857 -0.203182  ... -0.092600 -0.230166 -0.666510   \n",
              "...          ...       ...       ...  ...       ...       ...       ...   \n",
              "238790  1.392903 -0.300207 -0.327343  ...  0.326021  0.064244  0.205677   \n",
              "218732  1.608582 -0.569163 -0.444585  ... -0.097931  0.232067  0.868546   \n",
              "4786    0.239583  0.060691  0.624456  ...  0.223319 -0.363919 -0.803743   \n",
              "189828  0.178692 -0.108881  0.039381  ...  0.137834 -0.166068 -0.578170   \n",
              "8989   -0.860573  0.039633  2.477864  ... -0.159637 -0.081386  0.004320   \n",
              "\n",
              "             V23       V24       V25       V26       V27       V28  Amount  \n",
              "93876  -0.076044 -0.096204  0.506423 -0.380323  0.076734  0.034890    9.99  \n",
              "9133    0.082059 -0.072716  0.148948 -0.066969  0.024569  0.014142    0.00  \n",
              "72709   0.115876  0.134929  0.028619  0.974372 -0.024755  0.010073   15.00  \n",
              "92533  -0.097675 -0.569860 -0.307820 -0.423534 -0.097977 -0.174683   15.00  \n",
              "63550   0.106049 -0.349315  0.155775  0.127125 -0.011101  0.013861    1.98  \n",
              "...          ...       ...       ...       ...       ...       ...     ...  \n",
              "238790 -0.127736 -0.038394  0.858313 -0.477018 -0.220142 -0.262339  141.45  \n",
              "218732 -0.303017  0.015758  0.177983  0.261695 -0.092949  0.043002   23.00  \n",
              "4786   -0.053818 -0.122517 -0.389065  0.298613  0.171316  0.168939    4.49  \n",
              "189828  0.487490  0.564238 -1.355861  0.130437  0.060100  0.100722    1.98  \n",
              "8989   -0.021490  0.378752  0.113613  1.072551 -0.080883  0.010480   39.84  \n",
              "\n",
              "[99683 rows x 30 columns]"
            ]
          },
          "execution_count": 5,
          "metadata": {},
          "output_type": "execute_result"
        }
      ],
      "source": [
        "from sklearn.model_selection import train_test_split\n",
        "x=data.iloc[:,:-1]\n",
        "y=data['Class']\n",
        "x_train, x_test, y_train, y_test=train_test_split(x, y, test_size=0.35)\n",
        "x_test"
      ]
    },
    {
      "cell_type": "code",
      "execution_count": 6,
      "metadata": {
        "gather": {
          "logged": 1639471980793
        },
        "jupyter": {
          "outputs_hidden": false,
          "source_hidden": false
        },
        "nteract": {
          "transient": {
            "deleting": false
          }
        }
      },
      "outputs": [],
      "source": [
        "clf= linear_model.LogisticRegression(C=1e5)"
      ]
    },
    {
      "cell_type": "code",
      "execution_count": 7,
      "metadata": {
        "gather": {
          "logged": 1639471982712
        },
        "jupyter": {
          "outputs_hidden": false,
          "source_hidden": false
        },
        "nteract": {
          "transient": {
            "deleting": false
          }
        }
      },
      "outputs": [
        {
          "name": "stderr",
          "output_type": "stream",
          "text": [
            "/anaconda/envs/azureml_py36/lib/python3.6/site-packages/sklearn/linear_model/_logistic.py:940: ConvergenceWarning: lbfgs failed to converge (status=1):\n",
            "STOP: TOTAL NO. of ITERATIONS REACHED LIMIT.\n",
            "\n",
            "Increase the number of iterations (max_iter) or scale the data as shown in:\n",
            "    https://scikit-learn.org/stable/modules/preprocessing.html\n",
            "Please also refer to the documentation for alternative solver options:\n",
            "    https://scikit-learn.org/stable/modules/linear_model.html#logistic-regression\n",
            "  extra_warning_msg=_LOGISTIC_SOLVER_CONVERGENCE_MSG)\n"
          ]
        },
        {
          "data": {
            "text/plain": [
              "LogisticRegression(C=100000.0, class_weight=None, dual=False,\n",
              "                   fit_intercept=True, intercept_scaling=1, l1_ratio=None,\n",
              "                   max_iter=100, multi_class='auto', n_jobs=None, penalty='l2',\n",
              "                   random_state=None, solver='lbfgs', tol=0.0001, verbose=0,\n",
              "                   warm_start=False)"
            ]
          },
          "execution_count": 7,
          "metadata": {},
          "output_type": "execute_result"
        }
      ],
      "source": [
        "clf.fit(x_train, y_train)"
      ]
    },
    {
      "cell_type": "code",
      "execution_count": 8,
      "metadata": {
        "gather": {
          "logged": 1639471983050
        },
        "jupyter": {
          "outputs_hidden": false,
          "source_hidden": false
        },
        "nteract": {
          "transient": {
            "deleting": false
          }
        }
      },
      "outputs": [],
      "source": [
        "y_pred=np.array(clf.predict(x_test))\n",
        "y=np.array(y_test)\n",
        "x=np.array(x_test)\n"
      ]
    },
    {
      "cell_type": "code",
      "execution_count": 9,
      "metadata": {
        "gather": {
          "logged": 1639471983366
        },
        "jupyter": {
          "outputs_hidden": false,
          "source_hidden": false
        },
        "nteract": {
          "transient": {
            "deleting": false
          }
        }
      },
      "outputs": [],
      "source": [
        "from sklearn.metrics import confusion_matrix, classification_report, accuracy_score"
      ]
    },
    {
      "cell_type": "code",
      "execution_count": 10,
      "metadata": {
        "gather": {
          "logged": 1639471983693
        },
        "jupyter": {
          "outputs_hidden": false,
          "source_hidden": false
        },
        "nteract": {
          "transient": {
            "deleting": false
          }
        }
      },
      "outputs": [
        {
          "name": "stdout",
          "output_type": "stream",
          "text": [
            "[[99450    47]\n",
            " [   58   128]]\n"
          ]
        }
      ],
      "source": [
        "print(confusion_matrix(y, y_pred))"
      ]
    },
    {
      "cell_type": "code",
      "execution_count": 11,
      "metadata": {
        "gather": {
          "logged": 1639471984071
        },
        "jupyter": {
          "outputs_hidden": false,
          "source_hidden": false
        },
        "nteract": {
          "transient": {
            "deleting": false
          }
        }
      },
      "outputs": [
        {
          "data": {
            "text/plain": [
              "0.9989466609151009"
            ]
          },
          "execution_count": 11,
          "metadata": {},
          "output_type": "execute_result"
        }
      ],
      "source": [
        "accuracy_score(y, y_pred)"
      ]
    },
    {
      "cell_type": "code",
      "execution_count": 12,
      "metadata": {
        "gather": {
          "logged": 1639471984404
        },
        "jupyter": {
          "outputs_hidden": false,
          "source_hidden": false
        },
        "nteract": {
          "transient": {
            "deleting": false
          }
        }
      },
      "outputs": [
        {
          "name": "stdout",
          "output_type": "stream",
          "text": [
            "0.9982725143693799\n"
          ]
        }
      ],
      "source": [
        "#without using any machine learning algorithm, ACCURACY would be---\n",
        "print(len(normal)/(len(normal)+len(fraud)))"
      ]
    },
    {
      "cell_type": "code",
      "execution_count": 13,
      "metadata": {
        "gather": {
          "logged": 1639471984774
        },
        "jupyter": {
          "outputs_hidden": false,
          "source_hidden": false
        },
        "nteract": {
          "transient": {
            "deleting": false
          }
        }
      },
      "outputs": [],
      "source": [
        "from azureml.core.workspace import Workspace\n",
        "ws = Workspace.from_config()"
      ]
    },
    {
      "cell_type": "code",
      "execution_count": 14,
      "metadata": {
        "gather": {
          "logged": 1639471985130
        },
        "jupyter": {
          "outputs_hidden": false,
          "source_hidden": false
        },
        "nteract": {
          "transient": {
            "deleting": false
          }
        }
      },
      "outputs": [],
      "source": [
        "import logging\n",
        "\n",
        "automl_settings = {\n",
        "    \"iteration_timeout_minutes\": 10,\n",
        "    \"experiment_timeout_hours\": 0.3,\n",
        "    \"enable_early_stopping\": True,\n",
        "    \"primary_metric\": 'spearman_correlation',\n",
        "    \"featurization\": 'auto',\n",
        "    \"verbosity\": logging.INFO,\n",
        "    \"n_cross_validations\": 5\n",
        "}"
      ]
    },
    {
      "cell_type": "code",
      "execution_count": 15,
      "metadata": {
        "gather": {
          "logged": 1639471985458
        },
        "jupyter": {
          "outputs_hidden": false,
          "source_hidden": false
        },
        "nteract": {
          "transient": {
            "deleting": false
          }
        }
      },
      "outputs": [],
      "source": [
        "from azureml.train.automl import AutoMLConfig\n",
        "\n",
        "automl_config = AutoMLConfig(task='regression',\n",
        "                             debug_log='automated_ml_errors.log',\n",
        "                             training_data=x_train,\n",
        "                             label_column_name=\"Time\",\n",
        "                             **automl_settings)"
      ]
    },
    {
      "cell_type": "code",
      "execution_count": 16,
      "metadata": {
        "gather": {
          "logged": 1639473302010
        },
        "jupyter": {
          "outputs_hidden": false,
          "source_hidden": false
        },
        "nteract": {
          "transient": {
            "deleting": false
          }
        }
      },
      "outputs": [
        {
          "name": "stdout",
          "output_type": "stream",
          "text": [
            "No run_configuration provided, running on local with default configuration\n",
            "Running in the active local environment.\n"
          ]
        },
        {
          "name": "stderr",
          "output_type": "stream",
          "text": [
            "2021-12-14:08:53:04,697 INFO     [modeling_bert.py:226] Better speed can be achieved with apex installed from https://www.github.com/nvidia/apex .\n",
            "2021-12-14:08:53:04,701 INFO     [modeling_xlnet.py:339] Better speed can be achieved with apex installed from https://www.github.com/nvidia/apex .\n",
            "2021-12-14:08:53:07,852 INFO     [utils.py:157] NumExpr defaulting to 2 threads.\n"
          ]
        },
        {
          "data": {
            "text/html": [
              "<table style=\"width:100%\"><tr><th>Experiment</th><th>Id</th><th>Type</th><th>Status</th><th>Details Page</th><th>Docs Page</th></tr><tr><td>Credit-Card-Fraud-Detection</td><td>AutoML_d2e885be-b126-45dd-845a-4449edc78776</td><td>automl</td><td>Preparing</td><td><a href=\"https://ml.azure.com/runs/AutoML_d2e885be-b126-45dd-845a-4449edc78776?wsid=/subscriptions/15ae5d0d-1d7a-4643-9088-62988c5a2dc4/resourcegroups/credit_card_ml/workspaces/python&amp;tid=3ae71617-51d3-4cb1-aca5-04788b6ed780\" target=\"_blank\" rel=\"noopener\">Link to Azure Machine Learning studio</a></td><td><a href=\"https://docs.microsoft.com/en-us/python/api/overview/azure/ml/intro?view=azure-ml-py\" target=\"_blank\" rel=\"noopener\">Link to Documentation</a></td></tr></table>"
            ],
            "text/plain": [
              "<IPython.core.display.HTML object>"
            ]
          },
          "metadata": {},
          "output_type": "display_data"
        },
        {
          "name": "stdout",
          "output_type": "stream",
          "text": [
            "Current status: DatasetEvaluation. Gathering dataset statistics.\n",
            "Current status: FeaturesGeneration. Generating features for the dataset.\n",
            "Current status: DatasetFeaturization. Beginning to fit featurizers and featurize the dataset.\n",
            "Current status: DatasetFeaturizationCompleted. Completed fit featurizers and featurizing the dataset.\n",
            "Current status: DatasetCrossValidationSplit. Generating individually featurized CV splits.\n",
            "\n",
            "****************************************************************************************************\n",
            "DATA GUARDRAILS: \n",
            "\n",
            "TYPE:         Missing feature values imputation\n",
            "STATUS:       PASSED\n",
            "DESCRIPTION:  No feature missing values were detected in the training data.\n",
            "              Learn more about missing value imputation: https://aka.ms/AutomatedMLFeaturization\n",
            "\n",
            "****************************************************************************************************\n",
            "\n",
            "TYPE:         High cardinality feature detection\n",
            "STATUS:       PASSED\n",
            "DESCRIPTION:  Your inputs were analyzed, and no high cardinality features were detected.\n",
            "              Learn more about high cardinality feature handling: https://aka.ms/AutomatedMLFeaturization\n",
            "\n",
            "****************************************************************************************************\n",
            "Current status: ModelSelection. Beginning model selection.\n",
            "\n",
            "****************************************************************************************************\n",
            "ITERATION: The iteration being evaluated.\n",
            "PIPELINE: A summary description of the pipeline being evaluated.\n",
            "DURATION: Time taken for the current iteration.\n",
            "METRIC: The result of computing score on the fitted pipeline.\n",
            "BEST: The best observed score thus far.\n",
            "****************************************************************************************************\n",
            "\n",
            " ITERATION   PIPELINE                                       DURATION      METRIC      BEST\n",
            "         0   MaxAbsScaler LightGBM                          0:00:54       0.7961    0.7961\n",
            "         1   MaxAbsScaler XGBoostRegressor                  0:03:42       0.7612    0.7961\n",
            "         2   RobustScaler LightGBM                          0:01:05       0.7865    0.7961\n",
            "         3   RobustScaler ExtremeRandomTrees                0:01:51       0.7366    0.7961\n",
            "         4   MinMaxScaler ExtremeRandomTrees                0:01:32       0.7486    0.7961\n",
            "         5   MaxAbsScaler ElasticNet                        0:00:36       0.6602    0.7961\n",
            "         6   StandardScalerWrapper XGBoostRegressor         0:04:56       0.8029    0.8029\n",
            "         7   StandardScalerWrapper XGBoostRegressor         0:00:47       0.6758    0.8029\n",
            "         8   StandardScalerWrapper ExtremeRandomTrees       0:00:35       0.6612    0.8029\n",
            "         9                                                  0:02:03          nan    0.8029\n",
            "ERROR: Iteration timeout reached, skipping execution of the child run. Consider increasing iteration_timeout_minutes.\n",
            "        10   VotingEnsemble                                 0:01:05       0.8024    0.8029\n",
            "        11   StackEnsemble                                  0:01:05       0.8035    0.8035\n",
            "Stopping criteria reached at iteration 12. Ending experiment.\n",
            "****************************************************************************************************\n",
            "Current status: BestRunExplainModel. Best run model explanations started\n",
            "Current status: ModelExplanationDataSetSetup. Model explanations data setup completed\n",
            "Current status: PickSurrogateModel. Choosing LightGBM as the surrogate model for explanations\n",
            "Current status: EngineeredFeatureExplanations. Computation of engineered features started\n",
            "Current status: EngineeredFeatureExplanations. Computation of engineered features completed\n",
            "Current status: RawFeaturesExplanations. Computation of raw features started\n",
            "Current status: RawFeaturesExplanations. Computation of raw features completed\n",
            "Current status: BestRunExplainModel. Best run model explanations completed\n",
            "****************************************************************************************************\n"
          ]
        },
        {
          "name": "stderr",
          "output_type": "stream",
          "text": [
            "2021-12-14:09:11:53,741 INFO     [logging_handler.py:290] Sending 2636 bytes\n",
            "2021-12-14:09:11:53,742 INFO     [logging_handler.py:304] Finish uploading in 0.845080 seconds.\n",
            "2021-12-14:09:14:54,503 INFO     [explanation_client.py:332] Using default datastore for uploads\n"
          ]
        }
      ],
      "source": [
        "from azureml.core.experiment import Experiment\n",
        "experiment = Experiment(ws, \"Credit-Card-Fraud-Detection\")\n",
        "local_run = experiment.submit(automl_config, show_output=True)"
      ]
    },
    {
      "cell_type": "code",
      "execution_count": 17,
      "metadata": {
        "gather": {
          "logged": 1639473302854
        },
        "jupyter": {
          "outputs_hidden": false,
          "source_hidden": false
        },
        "nteract": {
          "transient": {
            "deleting": false
          }
        }
      },
      "outputs": [
        {
          "data": {
            "application/vnd.jupyter.widget-view+json": {
              "model_id": "a324a32065074fb3b180860a0e7d3635",
              "version_major": 2,
              "version_minor": 0
            },
            "text/plain": [
              "_AutoMLWidget(widget_settings={'childWidgetDisplay': 'popup', 'send_telemetry': False, 'log_level': 'INFO', 's…"
            ]
          },
          "metadata": {},
          "output_type": "display_data"
        },
        {
          "data": {
            "application/aml.mini.widget.v1": "{\"status\": \"Completed\", \"workbench_run_details_uri\": \"https://ml.azure.com/runs/AutoML_d2e885be-b126-45dd-845a-4449edc78776?wsid=/subscriptions/15ae5d0d-1d7a-4643-9088-62988c5a2dc4/resourcegroups/credit_card_ml/workspaces/python&tid=3ae71617-51d3-4cb1-aca5-04788b6ed780\", \"run_id\": \"AutoML_d2e885be-b126-45dd-845a-4449edc78776\", \"run_properties\": {\"run_id\": \"AutoML_d2e885be-b126-45dd-845a-4449edc78776\", \"created_utc\": \"2021-12-14T08:53:08.568251Z\", \"properties\": {\"num_iterations\": \"1000\", \"training_type\": \"TrainFull\", \"acquisition_function\": \"EI\", \"primary_metric\": \"spearman_correlation\", \"train_split\": \"0\", \"acquisition_parameter\": \"0\", \"num_cross_validation\": \"5\", \"target\": \"local\", \"AMLSettingsJsonString\": \"{\\\"path\\\":null,\\\"name\\\":\\\"Credit-Card-Fraud-Detection\\\",\\\"subscription_id\\\":\\\"15ae5d0d-1d7a-4643-9088-62988c5a2dc4\\\",\\\"resource_group\\\":\\\"credit_card_ml\\\",\\\"workspace_name\\\":\\\"python\\\",\\\"region\\\":\\\"centralindia\\\",\\\"compute_target\\\":\\\"local\\\",\\\"spark_service\\\":null,\\\"azure_service\\\":\\\"Microsoft.AzureNotebookVM\\\",\\\"many_models\\\":false,\\\"pipeline_fetch_max_batch_size\\\":1,\\\"enable_batch_run\\\":false,\\\"enable_run_restructure\\\":false,\\\"start_auxiliary_runs_before_parent_complete\\\":false,\\\"enable_code_generation\\\":false,\\\"iterations\\\":1000,\\\"primary_metric\\\":\\\"spearman_correlation\\\",\\\"task_type\\\":\\\"regression\\\",\\\"positive_label\\\":null,\\\"data_script\\\":null,\\\"test_size\\\":0.0,\\\"test_include_predictions_only\\\":false,\\\"validation_size\\\":0.0,\\\"n_cross_validations\\\":5,\\\"y_min\\\":null,\\\"y_max\\\":null,\\\"num_classes\\\":null,\\\"featurization\\\":\\\"auto\\\",\\\"_ignore_package_version_incompatibilities\\\":false,\\\"is_timeseries\\\":false,\\\"max_cores_per_iteration\\\":1,\\\"max_concurrent_iterations\\\":1,\\\"iteration_timeout_minutes\\\":10,\\\"mem_in_mb\\\":null,\\\"enforce_time_on_windows\\\":false,\\\"experiment_timeout_minutes\\\":18,\\\"experiment_exit_score\\\":null,\\\"whitelist_models\\\":null,\\\"blacklist_algos\\\":[\\\"TensorFlowDNN\\\",\\\"TensorFlowLinearRegressor\\\"],\\\"supported_models\\\":[\\\"LassoLars\\\",\\\"DecisionTree\\\",\\\"TensorFlowLinearRegressor\\\",\\\"OnlineGradientDescentRegressor\\\",\\\"KNN\\\",\\\"GradientBoosting\\\",\\\"FastLinearRegressor\\\",\\\"XGBoostRegressor\\\",\\\"SGD\\\",\\\"TensorFlowDNN\\\",\\\"ElasticNet\\\",\\\"ExtremeRandomTrees\\\",\\\"RandomForest\\\",\\\"LightGBM\\\"],\\\"private_models\\\":[\\\"TabnetRegressor\\\"],\\\"auto_blacklist\\\":true,\\\"blacklist_samples_reached\\\":false,\\\"exclude_nan_labels\\\":true,\\\"verbosity\\\":20,\\\"_debug_log\\\":\\\"automated_ml_errors.log\\\",\\\"show_warnings\\\":false,\\\"model_explainability\\\":true,\\\"service_url\\\":null,\\\"sdk_url\\\":null,\\\"sdk_packages\\\":null,\\\"enable_onnx_compatible_models\\\":false,\\\"enable_split_onnx_featurizer_estimator_models\\\":false,\\\"vm_type\\\":null,\\\"telemetry_verbosity\\\":20,\\\"send_telemetry\\\":true,\\\"enable_dnn\\\":false,\\\"scenario\\\":\\\"SDK-1.13.0\\\",\\\"environment_label\\\":null,\\\"save_mlflow\\\":false,\\\"enable_categorical_indicators\\\":false,\\\"force_text_dnn\\\":false,\\\"enable_feature_sweeping\\\":true,\\\"enable_early_stopping\\\":true,\\\"early_stopping_n_iters\\\":10,\\\"arguments\\\":null,\\\"dataset_id\\\":null,\\\"hyperdrive_config\\\":null,\\\"validation_dataset_id\\\":null,\\\"run_source\\\":null,\\\"metrics\\\":null,\\\"enable_metric_confidence\\\":false,\\\"enable_ensembling\\\":true,\\\"enable_stack_ensembling\\\":true,\\\"ensemble_iterations\\\":15,\\\"enable_tf\\\":false,\\\"enable_subsampling\\\":null,\\\"subsample_seed\\\":null,\\\"enable_nimbusml\\\":false,\\\"enable_streaming\\\":false,\\\"force_streaming\\\":false,\\\"track_child_runs\\\":true,\\\"allowed_private_models\\\":[],\\\"label_column_name\\\":\\\"Time\\\",\\\"weight_column_name\\\":null,\\\"cv_split_column_names\\\":null,\\\"enable_local_managed\\\":false,\\\"_local_managed_run_id\\\":null,\\\"cost_mode\\\":1,\\\"lag_length\\\":0,\\\"metric_operation\\\":\\\"maximize\\\",\\\"preprocess\\\":true}\", \"DataPrepJsonString\": null, \"EnableSubsampling\": null, \"runTemplate\": \"AutoML\", \"azureml.runsource\": \"automl\", \"display_task_type\": \"regression\", \"dependencies_versions\": \"{\\\"azureml-widgets\\\": \\\"1.36.0\\\", \\\"azureml-train\\\": \\\"1.36.0\\\", \\\"azureml-train-restclients-hyperdrive\\\": \\\"1.36.0\\\", \\\"azureml-train-core\\\": \\\"1.36.0\\\", \\\"azureml-train-automl\\\": \\\"1.36.0\\\", \\\"azureml-train-automl-runtime\\\": \\\"1.36.0\\\", \\\"azureml-train-automl-client\\\": \\\"1.36.0\\\", \\\"azureml-tensorboard\\\": \\\"1.36.0\\\", \\\"azureml-telemetry\\\": \\\"1.36.0\\\", \\\"azureml-sdk\\\": \\\"1.36.0\\\", \\\"azureml-samples\\\": \\\"0+unknown\\\", \\\"azureml-responsibleai\\\": \\\"1.36.0\\\", \\\"azureml-pipeline\\\": \\\"1.36.0\\\", \\\"azureml-pipeline-steps\\\": \\\"1.36.0\\\", \\\"azureml-pipeline-core\\\": \\\"1.36.0\\\", \\\"azureml-opendatasets\\\": \\\"1.36.0\\\", \\\"azureml-mlflow\\\": \\\"1.36.0\\\", \\\"azureml-interpret\\\": \\\"1.36.0\\\", \\\"azureml-inference-server-http\\\": \\\"0.4.1\\\", \\\"azureml-explain-model\\\": \\\"1.36.0\\\", \\\"azureml-defaults\\\": \\\"1.36.0\\\", \\\"azureml-dataset-runtime\\\": \\\"1.36.0\\\", \\\"azureml-dataprep\\\": \\\"2.24.4\\\", \\\"azureml-dataprep-rslex\\\": \\\"2.0.3\\\", \\\"azureml-dataprep-native\\\": \\\"38.0.0\\\", \\\"azureml-datadrift\\\": \\\"1.36.0\\\", \\\"azureml-core\\\": \\\"1.36.0.post2\\\", \\\"azureml-contrib-services\\\": \\\"1.36.0\\\", \\\"azureml-contrib-server\\\": \\\"1.36.0\\\", \\\"azureml-contrib-reinforcementlearning\\\": \\\"1.36.0\\\", \\\"azureml-contrib-pipeline-steps\\\": \\\"1.36.0\\\", \\\"azureml-contrib-notebook\\\": \\\"1.36.0\\\", \\\"azureml-contrib-fairness\\\": \\\"1.36.0\\\", \\\"azureml-contrib-dataset\\\": \\\"1.36.0\\\", \\\"azureml-contrib-automl-pipeline-steps\\\": \\\"1.36.0\\\", \\\"azureml-cli-common\\\": \\\"1.36.0\\\", \\\"azureml-automl-runtime\\\": \\\"1.36.0\\\", \\\"azureml-automl-dnn-nlp\\\": \\\"1.36.0\\\", \\\"azureml-automl-core\\\": \\\"1.36.0\\\", \\\"azureml-accel-models\\\": \\\"1.36.0\\\"}\", \"_aml_system_scenario_identification\": \"Local.Parent\", \"ClientSdkVersion\": \"1.36.0\", \"ClientType\": \"SDK\", \"environment_cpu_name\": \"AzureML-AutoML\", \"environment_cpu_label\": \"prod\", \"environment_gpu_name\": \"AzureML-AutoML-GPU\", \"environment_gpu_label\": \"prod\", \"root_attribution\": \"automl\", \"attribution\": \"AutoML\", \"Orchestrator\": \"AutoML\", \"_azureml.ComputeTargetType\": \"local\", \"ProblemInfoJsonString\": \"{\\\"dataset_num_categorical\\\": 0, \\\"is_sparse\\\": false, \\\"subsampling\\\": false, \\\"has_extra_col\\\": true, \\\"dataset_classes\\\": 103288, \\\"dataset_features\\\": 29, \\\"dataset_samples\\\": 185124, \\\"single_frequency_class_detected\\\": false}\"}, \"tags\": {\"model_explain_run\": \"best_run\", \"best_score\": \"0.803523526049409\", \"best_pipeline\": \"StackEnsemble\", \"automl_best_child_run_id\": \"AutoML_d2e885be-b126-45dd-845a-4449edc78776_11\", \"model_explain_best_run_child_id\": \"AutoML_d2e885be-b126-45dd-845a-4449edc78776_11\"}, \"end_time_utc\": \"2021-12-14T09:14:06.33296Z\", \"status\": \"Completed\", \"log_files\": {}, \"log_groups\": [], \"run_duration\": \"0:20:57\", \"run_number\": \"19\", \"run_queued_details\": {\"status\": \"Completed\", \"details\": null}}, \"child_runs\": [{\"run_id\": \"AutoML_d2e885be-b126-45dd-845a-4449edc78776_0\", \"run_number\": 20, \"metric\": null, \"status\": \"Completed\", \"run_type\": null, \"training_percent\": \"100\", \"start_time\": \"2021-12-14T08:53:34.454233Z\", \"end_time\": \"2021-12-14T08:54:28.722768Z\", \"created_time\": \"2021-12-14T08:53:34.32392Z\", \"created_time_dt\": \"2021-12-14T08:53:34.32392Z\", \"duration\": \"0:00:54\", \"iteration\": \"0\", \"goal\": \"spearman_correlation_max\", \"run_name\": \"MaxAbsScaler, LightGBM\", \"run_properties\": \"copy=True\", \"primary_metric\": 0.7961035, \"best_metric\": 0.7961035}, {\"run_id\": \"AutoML_d2e885be-b126-45dd-845a-4449edc78776_1\", \"run_number\": 21, \"metric\": null, \"status\": \"Completed\", \"run_type\": null, \"training_percent\": \"100\", \"start_time\": \"2021-12-14T08:54:29.093645Z\", \"end_time\": \"2021-12-14T08:58:11.183951Z\", \"created_time\": \"2021-12-14T08:54:28.968815Z\", \"created_time_dt\": \"2021-12-14T08:54:28.968815Z\", \"duration\": \"0:03:42\", \"iteration\": \"1\", \"goal\": \"spearman_correlation_max\", \"run_name\": \"MaxAbsScaler, XGBoostRegressor\", \"run_properties\": \"copy=True\", \"primary_metric\": 0.76123819, \"best_metric\": 0.7961035}, {\"run_id\": \"AutoML_d2e885be-b126-45dd-845a-4449edc78776_2\", \"run_number\": 22, \"metric\": null, \"status\": \"Completed\", \"run_type\": null, \"training_percent\": \"100\", \"start_time\": \"2021-12-14T08:58:12.444911Z\", \"end_time\": \"2021-12-14T08:59:17.748127Z\", \"created_time\": \"2021-12-14T08:58:12.323726Z\", \"created_time_dt\": \"2021-12-14T08:58:12.323726Z\", \"duration\": \"0:01:05\", \"iteration\": \"2\", \"goal\": \"spearman_correlation_max\", \"run_name\": \"RobustScaler, LightGBM\", \"run_properties\": \"copy=True, quantile_range=[25, 75], with_centering=False,\\n             with_scaling=False\", \"primary_metric\": 0.78645558, \"best_metric\": 0.7961035}, {\"run_id\": \"AutoML_d2e885be-b126-45dd-845a-4449edc78776_3\", \"run_number\": 23, \"metric\": null, \"status\": \"Completed\", \"run_type\": null, \"training_percent\": \"100\", \"start_time\": \"2021-12-14T08:59:19.619779Z\", \"end_time\": \"2021-12-14T09:01:10.917873Z\", \"created_time\": \"2021-12-14T08:59:19.432887Z\", \"created_time_dt\": \"2021-12-14T08:59:19.432887Z\", \"duration\": \"0:01:51\", \"iteration\": \"3\", \"goal\": \"spearman_correlation_max\", \"run_name\": \"RobustScaler, ExtremeRandomTrees\", \"run_properties\": \"copy=True, quantile_range=[10, 90], with_centering=False,\\n             with_scaling=False\", \"primary_metric\": 0.73662796, \"best_metric\": 0.7961035}, {\"run_id\": \"AutoML_d2e885be-b126-45dd-845a-4449edc78776_4\", \"run_number\": 24, \"metric\": null, \"status\": \"Completed\", \"run_type\": null, \"training_percent\": \"100\", \"start_time\": \"2021-12-14T09:01:12.770364Z\", \"end_time\": \"2021-12-14T09:02:45.637095Z\", \"created_time\": \"2021-12-14T09:01:12.640911Z\", \"created_time_dt\": \"2021-12-14T09:01:12.640911Z\", \"duration\": \"0:01:32\", \"iteration\": \"4\", \"goal\": \"spearman_correlation_max\", \"run_name\": \"MinMaxScaler, ExtremeRandomTrees\", \"run_properties\": \"copy=True, feature_range=(0, 1\", \"primary_metric\": 0.74863063, \"best_metric\": 0.7961035}, {\"run_id\": \"AutoML_d2e885be-b126-45dd-845a-4449edc78776_5\", \"run_number\": 25, \"metric\": null, \"status\": \"Completed\", \"run_type\": null, \"training_percent\": \"100\", \"start_time\": \"2021-12-14T09:02:47.534478Z\", \"end_time\": \"2021-12-14T09:03:23.892922Z\", \"created_time\": \"2021-12-14T09:02:47.413747Z\", \"created_time_dt\": \"2021-12-14T09:02:47.413747Z\", \"duration\": \"0:00:36\", \"iteration\": \"5\", \"goal\": \"spearman_correlation_max\", \"run_name\": \"MaxAbsScaler, ElasticNet\", \"run_properties\": \"copy=True\", \"primary_metric\": 0.66020532, \"best_metric\": 0.7961035}, {\"run_id\": \"AutoML_d2e885be-b126-45dd-845a-4449edc78776_6\", \"run_number\": 26, \"metric\": null, \"status\": \"Completed\", \"run_type\": null, \"training_percent\": \"100\", \"start_time\": \"2021-12-14T09:03:25.658144Z\", \"end_time\": \"2021-12-14T09:08:21.685285Z\", \"created_time\": \"2021-12-14T09:03:25.532422Z\", \"created_time_dt\": \"2021-12-14T09:03:25.532422Z\", \"duration\": \"0:04:56\", \"iteration\": \"6\", \"goal\": \"spearman_correlation_max\", \"run_name\": \"StandardScalerWrapper, XGBoostRegressor\", \"run_properties\": \"\\n    copy=True,\\n    with_mean=False,\\n    with_std=False\\n\", \"primary_metric\": 0.80286695, \"best_metric\": 0.80286695}, {\"run_id\": \"AutoML_d2e885be-b126-45dd-845a-4449edc78776_7\", \"run_number\": 27, \"metric\": null, \"status\": \"Completed\", \"run_type\": null, \"training_percent\": \"100\", \"start_time\": \"2021-12-14T09:08:24.483469Z\", \"end_time\": \"2021-12-14T09:09:11.48801Z\", \"created_time\": \"2021-12-14T09:08:24.172932Z\", \"created_time_dt\": \"2021-12-14T09:08:24.172932Z\", \"duration\": \"0:00:47\", \"iteration\": \"7\", \"goal\": \"spearman_correlation_max\", \"run_name\": \"StandardScalerWrapper, XGBoostRegressor\", \"run_properties\": \"\\n    copy=True,\\n    with_mean=False,\\n    with_std=False\\n\", \"primary_metric\": 0.67575079, \"best_metric\": 0.80286695}, {\"run_id\": \"AutoML_d2e885be-b126-45dd-845a-4449edc78776_8\", \"run_number\": 28, \"metric\": null, \"status\": \"Completed\", \"run_type\": null, \"training_percent\": \"100\", \"start_time\": \"2021-12-14T09:09:13.602524Z\", \"end_time\": \"2021-12-14T09:09:48.677589Z\", \"created_time\": \"2021-12-14T09:09:13.334674Z\", \"created_time_dt\": \"2021-12-14T09:09:13.334674Z\", \"duration\": \"0:00:35\", \"iteration\": \"8\", \"goal\": \"spearman_correlation_max\", \"run_name\": \"StandardScalerWrapper, ExtremeRandomTrees\", \"run_properties\": \"\\n    copy=True,\\n    with_mean=False,\\n    with_std=False\\n\", \"primary_metric\": 0.66120478, \"best_metric\": 0.80286695}, {\"run_id\": \"AutoML_d2e885be-b126-45dd-845a-4449edc78776_9\", \"run_number\": 29, \"metric\": null, \"status\": \"Failed\", \"run_type\": null, \"training_percent\": \"100\", \"start_time\": \"2021-12-14T09:09:50.718341Z\", \"end_time\": \"2021-12-14T09:11:54.035496Z\", \"created_time\": \"2021-12-14T09:09:50.474228Z\", \"created_time_dt\": \"2021-12-14T09:09:50.474228Z\", \"duration\": \"0:02:03\", \"iteration\": \"9\", \"goal\": \"spearman_correlation_max\", \"run_name\": \"StandardScalerWrapper, RandomForest\", \"run_properties\": null}, {\"run_id\": \"AutoML_d2e885be-b126-45dd-845a-4449edc78776_10\", \"run_number\": 30, \"metric\": null, \"status\": \"Completed\", \"run_type\": null, \"training_percent\": \"100\", \"start_time\": \"2021-12-14T09:11:54.716825Z\", \"end_time\": \"2021-12-14T09:12:59.734561Z\", \"created_time\": \"2021-12-14T09:11:54.469645Z\", \"created_time_dt\": \"2021-12-14T09:11:54.469645Z\", \"duration\": \"0:01:05\", \"iteration\": \"10\", \"goal\": \"spearman_correlation_max\", \"run_name\": \"VotingEnsemble\", \"run_properties\": \"\\n    estimators=[('6', Pipeline(\\n        memory=None,\\n        steps=[('standardscalerwrapper', StandardScalerWrapper(\\n            copy=True,\\n            with_mean=False,\\n            with_std=False\\n        \", \"primary_metric\": 0.80241207, \"best_metric\": 0.80286695}, {\"run_id\": \"AutoML_d2e885be-b126-45dd-845a-4449edc78776_11\", \"run_number\": 31, \"metric\": null, \"status\": \"Completed\", \"run_type\": null, \"training_percent\": \"100\", \"start_time\": \"2021-12-14T09:13:00.084278Z\", \"end_time\": \"2021-12-14T09:14:05.779556Z\", \"created_time\": \"2021-12-14T09:12:59.964262Z\", \"created_time_dt\": \"2021-12-14T09:12:59.964262Z\", \"duration\": \"0:01:05\", \"iteration\": \"11\", \"goal\": \"spearman_correlation_max\", \"run_name\": \"StackEnsemble\", \"run_properties\": \"\\n    base_learners=[('6', Pipeline(\\n        memory=None,\\n        steps=[('standardscalerwrapper', StandardScalerWrapper(\\n            copy=True,\\n            with_mean=False,\\n            with_std=False\\n        \", \"primary_metric\": 0.80352353, \"best_metric\": 0.80352353}], \"children_metrics\": {\"categories\": [0], \"series\": {\"spearman_correlation\": [{\"categories\": [\"0\", \"1\", \"2\", \"3\", \"4\", \"5\", \"6\", \"7\", \"8\", \"10\", \"11\"], \"mode\": \"markers\", \"name\": \"spearman_correlation\", \"stepped\": false, \"type\": \"scatter\", \"data\": [0.7961035012171902, 0.7612381903463005, 0.7864555835791508, 0.7366279564172235, 0.7486306253198579, 0.6602053151399254, 0.8028669541269904, 0.6757507873310733, 0.6612047849148908, 0.8024120747078556, 0.803523526049409]}, {\"categories\": [\"0\", \"1\", \"2\", \"3\", \"4\", \"5\", \"6\", \"7\", \"8\", \"10\", \"11\"], \"mode\": \"lines\", \"name\": \"spearman_correlation_max\", \"stepped\": true, \"type\": \"scatter\", \"data\": [0.7961035012171902, 0.7961035012171902, 0.7961035012171902, 0.7961035012171902, 0.7961035012171902, 0.7961035012171902, 0.8028669541269904, 0.8028669541269904, 0.8028669541269904, 0.8028669541269904, 0.803523526049409]}], \"normalized_root_mean_squared_error\": [{\"categories\": [\"0\", \"1\", \"2\", \"3\", \"4\", \"5\", \"6\", \"7\", \"8\", \"10\", \"11\"], \"mode\": \"markers\", \"name\": \"normalized_root_mean_squared_error\", \"stepped\": false, \"type\": \"scatter\", \"data\": [0.1356633449785504, 0.16077800492470154, 0.1439831103497876, 0.25568299454786997, 0.18166177996136396, 0.2008150654367309, 0.13177483560198128, 0.20868148629700595, 0.2318765068029936, 0.13203586689410374, 0.13075425166743276]}, {\"categories\": [\"0\", \"1\", \"2\", \"3\", \"4\", \"5\", \"6\", \"7\", \"8\", \"10\", \"11\"], \"mode\": \"lines\", \"name\": \"normalized_root_mean_squared_error_min\", \"stepped\": true, \"type\": \"scatter\", \"data\": [0.1356633449785504, 0.1356633449785504, 0.1356633449785504, 0.1356633449785504, 0.1356633449785504, 0.1356633449785504, 0.13177483560198128, 0.13177483560198128, 0.13177483560198128, 0.13177483560198128, 0.13075425166743276]}], \"mean_absolute_percentage_error\": [{\"categories\": [\"0\", \"1\", \"2\", \"3\", \"4\", \"5\", \"6\", \"7\", \"8\", \"10\", \"11\"], \"mode\": \"markers\", \"name\": \"mean_absolute_percentage_error\", \"stepped\": false, \"type\": \"scatter\", \"data\": [230.74749912541446, 260.01018299561537, 242.35833493143474, 378.1167298716379, 299.98154143462546, 306.3032767742313, 230.2790334889085, 287.7872099780673, 353.1890665761061, 230.95527113349527, 223.97455720982626]}, {\"categories\": [\"0\", \"1\", \"2\", \"3\", \"4\", \"5\", \"6\", \"7\", \"8\", \"10\", \"11\"], \"mode\": \"lines\", \"name\": \"mean_absolute_percentage_error_min\", \"stepped\": true, \"type\": \"scatter\", \"data\": [230.74749912541446, 230.74749912541446, 230.74749912541446, 230.74749912541446, 230.74749912541446, 230.74749912541446, 230.2790334889085, 230.2790334889085, 230.2790334889085, 230.2790334889085, 223.97455720982626]}], \"explained_variance\": [{\"categories\": [\"0\", \"1\", \"2\", \"3\", \"4\", \"5\", \"6\", \"7\", \"8\", \"10\", \"11\"], \"mode\": \"markers\", \"name\": \"explained_variance\", \"stepped\": false, \"type\": \"scatter\", \"data\": [0.7567529238093029, 0.6583592356396405, 0.7260068725732822, 0.13598657854137902, 0.5638378585607741, 0.46701604721759615, 0.7704980797986921, 0.44494745498729643, 0.2890265632576162, 0.7695879441468556, 0.7740410517004775]}, {\"categories\": [\"0\", \"1\", \"2\", \"3\", \"4\", \"5\", \"6\", \"7\", \"8\", \"10\", \"11\"], \"mode\": \"lines\", \"name\": \"explained_variance_max\", \"stepped\": true, \"type\": \"scatter\", \"data\": [0.7567529238093029, 0.7567529238093029, 0.7567529238093029, 0.7567529238093029, 0.7567529238093029, 0.7567529238093029, 0.7704980797986921, 0.7704980797986921, 0.7704980797986921, 0.7704980797986921, 0.7740410517004775]}], \"normalized_median_absolute_error\": [{\"categories\": [\"0\", \"1\", \"2\", \"3\", \"4\", \"5\", \"6\", \"7\", \"8\", \"10\", \"11\"], \"mode\": \"markers\", \"name\": \"normalized_median_absolute_error\", \"stepped\": false, \"type\": \"scatter\", \"data\": [0.08970721447947107, 0.10370033497644568, 0.0936251596090957, 0.2261709722967684, 0.12781686332914738, 0.12876863410679612, 0.08664660084451248, 0.14774835857562849, 0.19389559924822167, 0.08711377260485811, 0.08601312761299681]}, {\"categories\": [\"0\", \"1\", \"2\", \"3\", \"4\", \"5\", \"6\", \"7\", \"8\", \"10\", \"11\"], \"mode\": \"lines\", \"name\": \"normalized_median_absolute_error_min\", \"stepped\": true, \"type\": \"scatter\", \"data\": [0.08970721447947107, 0.08970721447947107, 0.08970721447947107, 0.08970721447947107, 0.08970721447947107, 0.08970721447947107, 0.08664660084451248, 0.08664660084451248, 0.08664660084451248, 0.08664660084451248, 0.08601312761299681]}], \"root_mean_squared_error\": [{\"categories\": [\"0\", \"1\", \"2\", \"3\", \"4\", \"5\", \"6\", \"7\", \"8\", \"10\", \"11\"], \"mode\": \"markers\", \"name\": \"root_mean_squared_error\", \"stepped\": false, \"type\": \"scatter\", \"data\": [23441.540705533676, 27781.153026949025, 24879.1296035605, 44179.975993915556, 31389.702283084003, 34699.2367869436, 22769.637393337543, 36058.491380232255, 40066.40536350287, 22814.741512365974, 22593.288654119042]}, {\"categories\": [\"0\", \"1\", \"2\", \"3\", \"4\", \"5\", \"6\", \"7\", \"8\", \"10\", \"11\"], \"mode\": \"lines\", \"name\": \"root_mean_squared_error_min\", \"stepped\": true, \"type\": \"scatter\", \"data\": [23441.540705533676, 23441.540705533676, 23441.540705533676, 23441.540705533676, 23441.540705533676, 23441.540705533676, 22769.637393337543, 22769.637393337543, 22769.637393337543, 22769.637393337543, 22593.288654119042]}], \"root_mean_squared_log_error\": [{\"categories\": [\"0\", \"1\", \"2\", \"3\", \"4\", \"5\", \"6\", \"7\", \"8\", \"10\", \"11\"], \"mode\": \"markers\", \"name\": \"root_mean_squared_log_error\", \"stepped\": false, \"type\": \"scatter\", \"data\": [0.6043123237243955, 0.6415946330276193, 0.6034599745940937, 0.8198815444159852, 0.7028565220210297, NaN, NaN, 0.7163363682972793, 0.7849644463172961, 0.5807154732525547, NaN]}, {\"categories\": [\"0\", \"1\", \"2\", \"3\", \"4\", \"5\", \"6\", \"7\", \"8\", \"10\", \"11\"], \"mode\": \"lines\", \"name\": \"root_mean_squared_log_error_min\", \"stepped\": true, \"type\": \"scatter\", \"data\": [0.6043123237243955, 0.6043123237243955, 0.6034599745940937, 0.6034599745940937, 0.6034599745940937, 0.6034599745940937, 0.6034599745940937, 0.6034599745940937, 0.6034599745940937, 0.5807154732525547, 0.5807154732525547]}], \"r2_score\": [{\"categories\": [\"0\", \"1\", \"2\", \"3\", \"4\", \"5\", \"6\", \"7\", \"8\", \"10\", \"11\"], \"mode\": \"markers\", \"name\": \"r2_score\", \"stepped\": false, \"type\": \"scatter\", \"data\": [0.7567487348372215, 0.6583511297599622, 0.7259995926631492, 0.13596443433667563, 0.5638312288160312, 0.46701239411606005, 0.7704932874561956, 0.4244350005082419, 0.2890134253317397, 0.7695831791020463, 0.7740340827460737]}, {\"categories\": [\"0\", \"1\", \"2\", \"3\", \"4\", \"5\", \"6\", \"7\", \"8\", \"10\", \"11\"], \"mode\": \"lines\", \"name\": \"r2_score_max\", \"stepped\": true, \"type\": \"scatter\", \"data\": [0.7567487348372215, 0.7567487348372215, 0.7567487348372215, 0.7567487348372215, 0.7567487348372215, 0.7567487348372215, 0.7704932874561956, 0.7704932874561956, 0.7704932874561956, 0.7704932874561956, 0.7740340827460737]}], \"mean_absolute_error\": [{\"categories\": [\"0\", \"1\", \"2\", \"3\", \"4\", \"5\", \"6\", \"7\", \"8\", \"10\", \"11\"], \"mode\": \"markers\", \"name\": \"mean_absolute_error\", \"stepped\": false, \"type\": \"scatter\", \"data\": [18298.0775230335, 21754.27480503696, 19438.39408582447, 39429.32805915389, 25313.501788582373, 27125.724018018518, 17725.079180708628, 29172.469938210405, 34442.67374000804, 17777.931016676284, 17581.43498505818]}, {\"categories\": [\"0\", \"1\", \"2\", \"3\", \"4\", \"5\", \"6\", \"7\", \"8\", \"10\", \"11\"], \"mode\": \"lines\", \"name\": \"mean_absolute_error_min\", \"stepped\": true, \"type\": \"scatter\", \"data\": [18298.0775230335, 18298.0775230335, 18298.0775230335, 18298.0775230335, 18298.0775230335, 18298.0775230335, 17725.079180708628, 17725.079180708628, 17725.079180708628, 17725.079180708628, 17581.43498505818]}], \"median_absolute_error\": [{\"categories\": [\"0\", \"1\", \"2\", \"3\", \"4\", \"5\", \"6\", \"7\", \"8\", \"10\", \"11\"], \"mode\": \"markers\", \"name\": \"median_absolute_error\", \"stepped\": false, \"type\": \"scatter\", \"data\": [15500.689004336766, 17918.58828125, 16177.678579174866, 39080.53464510321, 22085.73144837004, 22250.189824581517, 14971.839453125, 25529.734375, 33503.608385298714, 15052.562995938642, 14862.380346504946]}, {\"categories\": [\"0\", \"1\", \"2\", \"3\", \"4\", \"5\", \"6\", \"7\", \"8\", \"10\", \"11\"], \"mode\": \"lines\", \"name\": \"median_absolute_error_min\", \"stepped\": true, \"type\": \"scatter\", \"data\": [15500.689004336766, 15500.689004336766, 15500.689004336766, 15500.689004336766, 15500.689004336766, 15500.689004336766, 14971.839453125, 14971.839453125, 14971.839453125, 14971.839453125, 14862.380346504946]}], \"normalized_root_mean_squared_log_error\": [{\"categories\": [\"0\", \"1\", \"2\", \"3\", \"4\", \"5\", \"6\", \"7\", \"8\", \"10\", \"11\"], \"mode\": \"markers\", \"name\": \"normalized_root_mean_squared_log_error\", \"stepped\": false, \"type\": \"scatter\", \"data\": [0.050109441037972324, 0.05320088168289513, 0.05003876444110037, 0.06798439200252236, 0.05828070364560282, NaN, NaN, 0.059398449446346605, 0.06508907413508248, 0.04815279554030444, NaN]}, {\"categories\": [\"0\", \"1\", \"2\", \"3\", \"4\", \"5\", \"6\", \"7\", \"8\", \"10\", \"11\"], \"mode\": \"lines\", \"name\": \"normalized_root_mean_squared_log_error_min\", \"stepped\": true, \"type\": \"scatter\", \"data\": [0.050109441037972324, 0.050109441037972324, 0.05003876444110037, 0.05003876444110037, 0.05003876444110037, 0.05003876444110037, 0.05003876444110037, 0.05003876444110037, 0.05003876444110037, 0.04815279554030444, 0.04815279554030444]}], \"normalized_mean_absolute_error\": [{\"categories\": [\"0\", \"1\", \"2\", \"3\", \"4\", \"5\", \"6\", \"7\", \"8\", \"10\", \"11\"], \"mode\": \"markers\", \"name\": \"normalized_mean_absolute_error\", \"stepped\": false, \"type\": \"scatter\", \"data\": [0.10589655495065453, 0.12589862265056806, 0.1124959146593851, 0.22818954615464776, 0.14649695465404863, 0.15698483736526297, 0.1025804387975637, 0.16882998019706008, 0.199330256840641, 0.10288630849041787, 0.10174912603047696]}, {\"categories\": [\"0\", \"1\", \"2\", \"3\", \"4\", \"5\", \"6\", \"7\", \"8\", \"10\", \"11\"], \"mode\": \"lines\", \"name\": \"normalized_mean_absolute_error_min\", \"stepped\": true, \"type\": \"scatter\", \"data\": [0.10589655495065453, 0.10589655495065453, 0.10589655495065453, 0.10589655495065453, 0.10589655495065453, 0.10589655495065453, 0.1025804387975637, 0.1025804387975637, 0.1025804387975637, 0.1025804387975637, 0.10174912603047696]}]}, \"metricName\": null, \"primaryMetricName\": \"spearman_correlation\", \"showLegend\": false}, \"run_metrics\": [{\"name\": \"median_absolute_error\", \"run_id\": \"AutoML_d2e885be-b126-45dd-845a-4449edc78776\", \"categories\": [0], \"series\": [{\"data\": [14862.380346504946]}]}, {\"name\": \"normalized_median_absolute_error\", \"run_id\": \"AutoML_d2e885be-b126-45dd-845a-4449edc78776\", \"categories\": [0], \"series\": [{\"data\": [0.08601312761299681]}]}, {\"name\": \"normalized_root_mean_squared_error\", \"run_id\": \"AutoML_d2e885be-b126-45dd-845a-4449edc78776\", \"categories\": [0], \"series\": [{\"data\": [0.13075425166743276]}]}, {\"name\": \"r2_score\", \"run_id\": \"AutoML_d2e885be-b126-45dd-845a-4449edc78776\", \"categories\": [0], \"series\": [{\"data\": [0.7740340827460737]}]}, {\"name\": \"normalized_root_mean_squared_log_error\", \"run_id\": \"AutoML_d2e885be-b126-45dd-845a-4449edc78776\", \"categories\": [0], \"series\": [{\"data\": [NaN]}]}, {\"name\": \"mean_absolute_error\", \"run_id\": \"AutoML_d2e885be-b126-45dd-845a-4449edc78776\", \"categories\": [0], \"series\": [{\"data\": [17581.43498505818]}]}, {\"name\": \"mean_absolute_percentage_error\", \"run_id\": \"AutoML_d2e885be-b126-45dd-845a-4449edc78776\", \"categories\": [0], \"series\": [{\"data\": [223.97455720982626]}]}, {\"name\": \"normalized_mean_absolute_error\", \"run_id\": \"AutoML_d2e885be-b126-45dd-845a-4449edc78776\", \"categories\": [0], \"series\": [{\"data\": [0.10174912603047696]}]}, {\"name\": \"root_mean_squared_error\", \"run_id\": \"AutoML_d2e885be-b126-45dd-845a-4449edc78776\", \"categories\": [0], \"series\": [{\"data\": [22593.288654119042]}]}, {\"name\": \"explained_variance\", \"run_id\": \"AutoML_d2e885be-b126-45dd-845a-4449edc78776\", \"categories\": [0], \"series\": [{\"data\": [0.7740410517004775]}]}, {\"name\": \"root_mean_squared_log_error\", \"run_id\": \"AutoML_d2e885be-b126-45dd-845a-4449edc78776\", \"categories\": [0], \"series\": [{\"data\": [NaN]}]}, {\"name\": \"spearman_correlation\", \"run_id\": \"AutoML_d2e885be-b126-45dd-845a-4449edc78776\", \"categories\": [0], \"series\": [{\"data\": [0.803523526049409]}]}], \"run_logs\": \"\\nRun is completed.\", \"graph\": {}, \"widget_settings\": {\"childWidgetDisplay\": \"popup\", \"send_telemetry\": false, \"log_level\": \"INFO\", \"sdk_version\": \"1.36.0\"}, \"loading\": false}"
          },
          "metadata": {},
          "output_type": "display_data"
        }
      ],
      "source": [
        "from azureml.widgets import RunDetails\n",
        "RunDetails(local_run).show()"
      ]
    },
    {
      "cell_type": "code",
      "execution_count": 18,
      "metadata": {
        "gather": {
          "logged": 1639473303288
        },
        "jupyter": {
          "outputs_hidden": false,
          "source_hidden": false
        },
        "nteract": {
          "transient": {
            "deleting": false
          }
        }
      },
      "outputs": [
        {
          "name": "stdout",
          "output_type": "stream",
          "text": [
            "Run(Experiment: Credit-Card-Fraud-Detection,\n",
            "Id: AutoML_d2e885be-b126-45dd-845a-4449edc78776_11,\n",
            "Type: None,\n",
            "Status: Completed)\n",
            "RegressionPipeline(pipeline=Pipeline(memory=None,\n",
            "                                     steps=[('datatransformer',\n",
            "                                             DataTransformer(enable_dnn=False, enable_feature_sweeping=True, feature_sweeping_config={}, feature_sweeping_timeout=86400, featurization_config=None, force_text_dnn=False, is_cross_validation=True, is_onnx_compatible=False, observer=None, task='regression', working_dir='/mnt/batch/ta...\n",
            "), random_state=None, reg_alpha=0.525, reg_lambda=1.275, subsample=0.75, subsample_freq=3))], verbose=False))], meta_learner=ElasticNetCV(alphas=None, copy_X=True, cv=None, eps=0.001, fit_intercept=True, l1_ratio=0.5, max_iter=1000, n_alphas=100, n_jobs=None, normalize=False, positive=False, precompute='auto', random_state=None, selection='cyclic', tol=0.0001, verbose=0), training_cv_folds=5))],\n",
            "                                     verbose=False),\n",
            "                   stddev=[22593.514540414948])\n"
          ]
        }
      ],
      "source": [
        "best_run, fitted_model = local_run.get_output()\n",
        "print(best_run)\n",
        "print(fitted_model)"
      ]
    },
    {
      "cell_type": "code",
      "execution_count": 19,
      "metadata": {
        "gather": {
          "logged": 1639473306936
        },
        "jupyter": {
          "outputs_hidden": false,
          "source_hidden": false
        },
        "nteract": {
          "transient": {
            "deleting": false
          }
        }
      },
      "outputs": [
        {
          "name": "stdout",
          "output_type": "stream",
          "text": [
            "[ 58273.85854223   4323.13589613  54610.25488329  92172.29845213\n",
            "  57608.00958928 143665.4329569  121609.50568987  54436.41144138\n",
            " 141418.85469046 100063.73474522]\n"
          ]
        }
      ],
      "source": [
        "y_test = x_test.pop(\"Time\")\n",
        "\n",
        "y_predict = fitted_model.predict(x_test)\n",
        "print(y_predict[:10])"
      ]
    },
    {
      "cell_type": "code",
      "execution_count": 20,
      "metadata": {
        "gather": {
          "logged": 1639473307399
        },
        "jupyter": {
          "outputs_hidden": false,
          "source_hidden": false
        },
        "nteract": {
          "transient": {
            "deleting": false
          }
        }
      },
      "outputs": [
        {
          "data": {
            "text/plain": [
              "22566.21444874061"
            ]
          },
          "execution_count": 20,
          "metadata": {},
          "output_type": "execute_result"
        }
      ],
      "source": [
        "from sklearn.metrics import mean_squared_error\n",
        "from math import sqrt\n",
        "\n",
        "y_actual = y_test.values.flatten().tolist()\n",
        "rmse = sqrt(mean_squared_error(y_actual, y_predict))\n",
        "rmse"
      ]
    },
    {
      "cell_type": "code",
      "execution_count": 21,
      "metadata": {
        "gather": {
          "logged": 1639473307826
        },
        "jupyter": {
          "outputs_hidden": false,
          "source_hidden": false
        },
        "nteract": {
          "transient": {
            "deleting": false
          }
        }
      },
      "outputs": [
        {
          "name": "stdout",
          "output_type": "stream",
          "text": [
            "Model MAPE:\n",
            "0.1853254649667295\n",
            "\n",
            "Model Accuracy:\n",
            "0.8146745350332705\n"
          ]
        }
      ],
      "source": [
        "sum_actuals = sum_errors = 0\n",
        "\n",
        "for actual_val, predict_val in zip(y_actual, y_predict):\n",
        "    abs_error = actual_val - predict_val\n",
        "    if abs_error < 0:\n",
        "        abs_error = abs_error * -1\n",
        "\n",
        "    sum_errors = sum_errors + abs_error\n",
        "    sum_actuals = sum_actuals + actual_val\n",
        "\n",
        "mean_abs_percent_error = sum_errors / sum_actuals\n",
        "print(\"Model MAPE:\")\n",
        "print(mean_abs_percent_error)\n",
        "print()\n",
        "print(\"Model Accuracy:\")\n",
        "print(1 - mean_abs_percent_error)"
      ]
    },
    {
      "cell_type": "code",
      "execution_count": null,
      "metadata": {
        "jupyter": {
          "outputs_hidden": false,
          "source_hidden": false
        },
        "nteract": {
          "transient": {
            "deleting": false
          }
        }
      },
      "outputs": [],
      "source": []
    }
  ],
  "metadata": {
    "kernel_info": {
      "name": "python3-azureml"
    },
    "kernelspec": {
      "display_name": "Python 3.6 - AzureML",
      "language": "python",
      "name": "python3-azureml"
    },
    "language_info": {
      "codemirror_mode": {
        "name": "ipython",
        "version": 3
      },
      "file_extension": ".py",
      "mimetype": "text/x-python",
      "name": "python",
      "nbconvert_exporter": "python",
      "pygments_lexer": "ipython3",
      "version": "3.6.9"
    },
    "microsoft": {
      "host": {
        "AzureML": {
          "notebookHasBeenCompleted": true
        }
      }
    },
    "nteract": {
      "version": "nteract-front-end@1.0.0"
    }
  },
  "nbformat": 4,
  "nbformat_minor": 2
}
